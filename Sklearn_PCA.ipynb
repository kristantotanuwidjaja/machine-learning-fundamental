{
  "nbformat": 4,
  "nbformat_minor": 0,
  "metadata": {
    "colab": {
      "name": "Latihan8-Sklearn PCA.ipynb",
      "provenance": [],
      "collapsed_sections": [],
      "include_colab_link": true
    },
    "kernelspec": {
      "name": "python3",
      "display_name": "Python 3"
    }
  },
  "cells": [
    {
      "cell_type": "markdown",
      "metadata": {
        "id": "view-in-github",
        "colab_type": "text"
      },
      "source": [
        "<a href=\"https://colab.research.google.com/github/kristantotanuwidjaja/machine-learning-fundamental/blob/main/Sklearn_PCA.ipynb\" target=\"_parent\"><img src=\"https://colab.research.google.com/assets/colab-badge.svg\" alt=\"Open In Colab\"/></a>"
      ]
    },
    {
      "cell_type": "markdown",
      "metadata": {
        "id": "7ygbHOOAcfRB"
      },
      "source": [
        "Import library yang diperlukan, pisahkan atribut, dan bagi dataset menjadi train set dan test set."
      ]
    },
    {
      "cell_type": "code",
      "metadata": {
        "id": "snyx5YV2ygwM"
      },
      "source": [
        "from sklearn import datasets\n",
        "from sklearn.model_selection import train_test_split\n",
        "\n",
        "iris = datasets.load_iris()\n",
        "atribut = iris.data\n",
        "label = iris.target\n",
        "\n",
        "# bagi dataset menjadi train set dan test set\n",
        "X_train, X_test, y_train, y_test = train_test_split(\n",
        "    atribut, label, test_size=0.2, random_state=1)"
      ],
      "execution_count": null,
      "outputs": []
    },
    {
      "cell_type": "markdown",
      "metadata": {
        "id": "cB02oVErcr93"
      },
      "source": [
        "Gunakan model Decision Tree dan menghitung berapa akurasinya tanpa menggunakan PCA."
      ]
    },
    {
      "cell_type": "code",
      "metadata": {
        "id": "xm3Y-q9-yrXv",
        "colab": {
          "base_uri": "https://localhost:8080/"
        },
        "outputId": "9c3dde01-16c7-4eaa-ba44-94da7d62a9fe"
      },
      "source": [
        "from sklearn import tree\n",
        "\n",
        "# menghitung akurasi model tanpa PCA\n",
        "decision_tree = tree.DecisionTreeClassifier()\n",
        "model_pertama = decision_tree.fit(X_train, y_train)\n",
        "model_pertama.score(X_test, y_test)"
      ],
      "execution_count": null,
      "outputs": [
        {
          "output_type": "execute_result",
          "data": {
            "text/plain": [
              "0.9666666666666667"
            ]
          },
          "metadata": {
            "tags": []
          },
          "execution_count": 2
        }
      ]
    },
    {
      "cell_type": "markdown",
      "metadata": {
        "id": "PivqpWL7c4OO"
      },
      "source": [
        "Akurasi tanpa PCA adalah 0.9666."
      ]
    },
    {
      "cell_type": "markdown",
      "metadata": {
        "id": "WiC3zx7Jc5_m"
      },
      "source": [
        "Gunakan PCA dan menghitung variance dari setiap atribut.\n",
        "Lakukan pembuatan objek PCA dengan 4 principal component setelah itu aplikasikan PCA pada dataset dan lihat variance dari setiap atribut."
      ]
    },
    {
      "cell_type": "code",
      "metadata": {
        "id": "LXfvFEeAytjT",
        "colab": {
          "base_uri": "https://localhost:8080/"
        },
        "outputId": "db327095-2389-4aa8-d0ff-0b1ea165cd04"
      },
      "source": [
        "from sklearn.decomposition import PCA\n",
        "\n",
        "# membuat objek PCA dengan 4 principal component\n",
        "pca = PCA(n_components=4)\n",
        "\n",
        "# mengaplikasikan PCA pada dataset\n",
        "pca_attributes = pca.fit_transform(X_train)\n",
        "\n",
        "# melihat variance dari setiap atribut\n",
        "pca.explained_variance_ratio_"
      ],
      "execution_count": null,
      "outputs": [
        {
          "output_type": "execute_result",
          "data": {
            "text/plain": [
              "array([0.92848323, 0.04764372, 0.01931005, 0.004563  ])"
            ]
          },
          "metadata": {
            "tags": []
          },
          "execution_count": 3
        }
      ]
    },
    {
      "cell_type": "markdown",
      "metadata": {
        "id": "ioo6xh67dZZX"
      },
      "source": [
        "Berdasarkan dari variance sebelumnya, maka ambil 2 principal component terbaik karena total variance nya adalah 0.969 yang sudah cukup tinggi."
      ]
    },
    {
      "cell_type": "code",
      "metadata": {
        "id": "2ytSpsehyvpZ"
      },
      "source": [
        "# PCA dengan 2 principal component\n",
        "pca = PCA(n_components = 2)\n",
        "X_train_pca = pca.fit_transform(X_train)\n",
        "X_test_pca = pca.fit_transform(X_test)"
      ],
      "execution_count": null,
      "outputs": []
    },
    {
      "cell_type": "markdown",
      "metadata": {
        "id": "BBpJyTQadpAF"
      },
      "source": [
        "Lakukan uji akurasi dari classifier setelah menggunakan PCA."
      ]
    },
    {
      "cell_type": "code",
      "metadata": {
        "id": "xrRv6-SFyzdT",
        "colab": {
          "base_uri": "https://localhost:8080/"
        },
        "outputId": "b435b461-4ddb-47a1-b62b-df8f711bbc75"
      },
      "source": [
        "# uji akurasi classifier\n",
        "\n",
        "model2 = decision_tree.fit(X_train_pca, y_train)\n",
        "model2.score(X_test_pca, y_test)"
      ],
      "execution_count": null,
      "outputs": [
        {
          "output_type": "execute_result",
          "data": {
            "text/plain": [
              "0.9333333333333333"
            ]
          },
          "metadata": {
            "tags": []
          },
          "execution_count": 5
        }
      ]
    },
    {
      "cell_type": "markdown",
      "metadata": {
        "id": "uhxcGKihduIU"
      },
      "source": [
        "Hasil pengujian akurasi setelah menggunakan PCA yaitu 0.9333333333333333."
      ]
    }
  ]
}